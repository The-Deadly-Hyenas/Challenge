{
 "cells": [
  {
   "cell_type": "code",
   "execution_count": 12,
   "metadata": {
    "collapsed": true,
    "pycharm": {
     "name": "#%%\n"
    }
   },
   "outputs": [],
   "source": [
    "import numpy as np\n",
    "import pandas as pd"
   ]
  },
  {
   "cell_type": "code",
   "execution_count": 2,
   "outputs": [],
   "source": [
    "df: pd.DataFrame = pd.read_pickle(\n",
    "    \"high_level_data/train_data_pandas.pkl\").reset_index()"
   ],
   "metadata": {
    "collapsed": false,
    "pycharm": {
     "name": "#%%\n"
    }
   }
  },
  {
   "cell_type": "code",
   "execution_count": 3,
   "outputs": [
    {
     "data": {
      "text/plain": "      level_0  index  pianist_id  segment_id  snippet_id  \\\n0           0      0           1           0           0   \n1           1      1           1           0           1   \n2           2      2           1           0           2   \n3           3      3           1           0           3   \n4           4      4           1           0           4   \n...       ...    ...         ...         ...         ...   \n2277     2277   4175          11          26           2   \n2278     2278   4176          11          26           3   \n2279     2279   4177          11          26           4   \n2280     2280   4178          11          26           5   \n2281     2281   4179          11          26           6   \n\n      essentia_dissonance_mean  essentia_dissonance_stdev  \\\n0                     0.192237                   0.059404   \n1                     0.143425                   0.064204   \n2                     0.146967                   0.056205   \n3                     0.158810                   0.059129   \n4                     0.168547                   0.049648   \n...                        ...                        ...   \n2277                  0.202177                   0.050760   \n2278                  0.174454                   0.063426   \n2279                  0.161152                   0.074724   \n2280                  0.192846                   0.056795   \n2281                  0.208580                   0.087355   \n\n      essentia_dynamic_complexity  essentia_loudness  essentia_onset_rate  \\\n0                        2.040252         16079768.0             0.800000   \n1                        3.138845         35489248.0             2.600000   \n2                        2.019706         42130144.0             2.600000   \n3                        3.567908         40922732.0             1.400000   \n4                        2.329854         51921612.0             1.600000   \n...                           ...                ...                  ...   \n2277                     2.840705         51977460.0             1.800000   \n2278                     5.202462          9471357.0             3.200000   \n2279                     4.605277          7378860.5             2.600000   \n2280                     2.563405         22641664.0             3.200000   \n2281                    13.824711          8544824.0             2.322119   \n\n      ...  gems_peacefulness_binary  gems_power_binary  \\\n0     ...                       1.0                0.0   \n1     ...                       1.0                0.0   \n2     ...                       1.0                0.0   \n3     ...                       1.0                0.0   \n4     ...                       1.0                0.0   \n...   ...                       ...                ...   \n2277  ...                       0.0                0.0   \n2278  ...                       0.0                0.0   \n2279  ...                       0.0                0.0   \n2280  ...                       0.0                0.0   \n2281  ...                       0.0                0.0   \n\n      gems_joyful_activation_binary  gems_tension_binary  gems_sadness_binary  \\\n0                               0.0                  1.0                  0.0   \n1                               0.0                  0.0                  0.0   \n2                               0.0                  0.0                  0.0   \n3                               0.0                  0.0                  0.0   \n4                               0.0                  0.0                  0.0   \n...                             ...                  ...                  ...   \n2277                            0.0                  1.0                  0.0   \n2278                            0.0                  0.0                  0.0   \n2279                            0.0                  0.0                  0.0   \n2280                            0.0                  0.0                  0.0   \n2281                            0.0                  1.0                  0.0   \n\n      gemmes_movement_binary  gemmes_force_binary  gemmes_interior_binary  \\\n0                        0.0                  0.0                     0.0   \n1                        0.0                  0.0                     1.0   \n2                        0.0                  0.0                     1.0   \n3                        0.0                  0.0                     1.0   \n4                        0.0                  0.0                     1.0   \n...                      ...                  ...                     ...   \n2277                     1.0                  0.0                     0.0   \n2278                     1.0                  0.0                     1.0   \n2279                     0.0                  0.0                     1.0   \n2280                     1.0                  0.0                     0.0   \n2281                     0.0                  0.0                     0.0   \n\n      gemmes_wandering_binary  gemmes_flow_binary  \n0                         1.0                 1.0  \n1                         1.0                 1.0  \n2                         1.0                 1.0  \n3                         0.0                 1.0  \n4                         1.0                 1.0  \n...                       ...                 ...  \n2277                      0.0                 0.0  \n2278                      0.0                 0.0  \n2279                      0.0                 0.0  \n2280                      0.0                 0.0  \n2281                      0.0                 0.0  \n\n[2282 rows x 205 columns]",
      "text/html": "<div>\n<style scoped>\n    .dataframe tbody tr th:only-of-type {\n        vertical-align: middle;\n    }\n\n    .dataframe tbody tr th {\n        vertical-align: top;\n    }\n\n    .dataframe thead th {\n        text-align: right;\n    }\n</style>\n<table border=\"1\" class=\"dataframe\">\n  <thead>\n    <tr style=\"text-align: right;\">\n      <th></th>\n      <th>level_0</th>\n      <th>index</th>\n      <th>pianist_id</th>\n      <th>segment_id</th>\n      <th>snippet_id</th>\n      <th>essentia_dissonance_mean</th>\n      <th>essentia_dissonance_stdev</th>\n      <th>essentia_dynamic_complexity</th>\n      <th>essentia_loudness</th>\n      <th>essentia_onset_rate</th>\n      <th>...</th>\n      <th>gems_peacefulness_binary</th>\n      <th>gems_power_binary</th>\n      <th>gems_joyful_activation_binary</th>\n      <th>gems_tension_binary</th>\n      <th>gems_sadness_binary</th>\n      <th>gemmes_movement_binary</th>\n      <th>gemmes_force_binary</th>\n      <th>gemmes_interior_binary</th>\n      <th>gemmes_wandering_binary</th>\n      <th>gemmes_flow_binary</th>\n    </tr>\n  </thead>\n  <tbody>\n    <tr>\n      <th>0</th>\n      <td>0</td>\n      <td>0</td>\n      <td>1</td>\n      <td>0</td>\n      <td>0</td>\n      <td>0.192237</td>\n      <td>0.059404</td>\n      <td>2.040252</td>\n      <td>16079768.0</td>\n      <td>0.800000</td>\n      <td>...</td>\n      <td>1.0</td>\n      <td>0.0</td>\n      <td>0.0</td>\n      <td>1.0</td>\n      <td>0.0</td>\n      <td>0.0</td>\n      <td>0.0</td>\n      <td>0.0</td>\n      <td>1.0</td>\n      <td>1.0</td>\n    </tr>\n    <tr>\n      <th>1</th>\n      <td>1</td>\n      <td>1</td>\n      <td>1</td>\n      <td>0</td>\n      <td>1</td>\n      <td>0.143425</td>\n      <td>0.064204</td>\n      <td>3.138845</td>\n      <td>35489248.0</td>\n      <td>2.600000</td>\n      <td>...</td>\n      <td>1.0</td>\n      <td>0.0</td>\n      <td>0.0</td>\n      <td>0.0</td>\n      <td>0.0</td>\n      <td>0.0</td>\n      <td>0.0</td>\n      <td>1.0</td>\n      <td>1.0</td>\n      <td>1.0</td>\n    </tr>\n    <tr>\n      <th>2</th>\n      <td>2</td>\n      <td>2</td>\n      <td>1</td>\n      <td>0</td>\n      <td>2</td>\n      <td>0.146967</td>\n      <td>0.056205</td>\n      <td>2.019706</td>\n      <td>42130144.0</td>\n      <td>2.600000</td>\n      <td>...</td>\n      <td>1.0</td>\n      <td>0.0</td>\n      <td>0.0</td>\n      <td>0.0</td>\n      <td>0.0</td>\n      <td>0.0</td>\n      <td>0.0</td>\n      <td>1.0</td>\n      <td>1.0</td>\n      <td>1.0</td>\n    </tr>\n    <tr>\n      <th>3</th>\n      <td>3</td>\n      <td>3</td>\n      <td>1</td>\n      <td>0</td>\n      <td>3</td>\n      <td>0.158810</td>\n      <td>0.059129</td>\n      <td>3.567908</td>\n      <td>40922732.0</td>\n      <td>1.400000</td>\n      <td>...</td>\n      <td>1.0</td>\n      <td>0.0</td>\n      <td>0.0</td>\n      <td>0.0</td>\n      <td>0.0</td>\n      <td>0.0</td>\n      <td>0.0</td>\n      <td>1.0</td>\n      <td>0.0</td>\n      <td>1.0</td>\n    </tr>\n    <tr>\n      <th>4</th>\n      <td>4</td>\n      <td>4</td>\n      <td>1</td>\n      <td>0</td>\n      <td>4</td>\n      <td>0.168547</td>\n      <td>0.049648</td>\n      <td>2.329854</td>\n      <td>51921612.0</td>\n      <td>1.600000</td>\n      <td>...</td>\n      <td>1.0</td>\n      <td>0.0</td>\n      <td>0.0</td>\n      <td>0.0</td>\n      <td>0.0</td>\n      <td>0.0</td>\n      <td>0.0</td>\n      <td>1.0</td>\n      <td>1.0</td>\n      <td>1.0</td>\n    </tr>\n    <tr>\n      <th>...</th>\n      <td>...</td>\n      <td>...</td>\n      <td>...</td>\n      <td>...</td>\n      <td>...</td>\n      <td>...</td>\n      <td>...</td>\n      <td>...</td>\n      <td>...</td>\n      <td>...</td>\n      <td>...</td>\n      <td>...</td>\n      <td>...</td>\n      <td>...</td>\n      <td>...</td>\n      <td>...</td>\n      <td>...</td>\n      <td>...</td>\n      <td>...</td>\n      <td>...</td>\n      <td>...</td>\n    </tr>\n    <tr>\n      <th>2277</th>\n      <td>2277</td>\n      <td>4175</td>\n      <td>11</td>\n      <td>26</td>\n      <td>2</td>\n      <td>0.202177</td>\n      <td>0.050760</td>\n      <td>2.840705</td>\n      <td>51977460.0</td>\n      <td>1.800000</td>\n      <td>...</td>\n      <td>0.0</td>\n      <td>0.0</td>\n      <td>0.0</td>\n      <td>1.0</td>\n      <td>0.0</td>\n      <td>1.0</td>\n      <td>0.0</td>\n      <td>0.0</td>\n      <td>0.0</td>\n      <td>0.0</td>\n    </tr>\n    <tr>\n      <th>2278</th>\n      <td>2278</td>\n      <td>4176</td>\n      <td>11</td>\n      <td>26</td>\n      <td>3</td>\n      <td>0.174454</td>\n      <td>0.063426</td>\n      <td>5.202462</td>\n      <td>9471357.0</td>\n      <td>3.200000</td>\n      <td>...</td>\n      <td>0.0</td>\n      <td>0.0</td>\n      <td>0.0</td>\n      <td>0.0</td>\n      <td>0.0</td>\n      <td>1.0</td>\n      <td>0.0</td>\n      <td>1.0</td>\n      <td>0.0</td>\n      <td>0.0</td>\n    </tr>\n    <tr>\n      <th>2279</th>\n      <td>2279</td>\n      <td>4177</td>\n      <td>11</td>\n      <td>26</td>\n      <td>4</td>\n      <td>0.161152</td>\n      <td>0.074724</td>\n      <td>4.605277</td>\n      <td>7378860.5</td>\n      <td>2.600000</td>\n      <td>...</td>\n      <td>0.0</td>\n      <td>0.0</td>\n      <td>0.0</td>\n      <td>0.0</td>\n      <td>0.0</td>\n      <td>0.0</td>\n      <td>0.0</td>\n      <td>1.0</td>\n      <td>0.0</td>\n      <td>0.0</td>\n    </tr>\n    <tr>\n      <th>2280</th>\n      <td>2280</td>\n      <td>4178</td>\n      <td>11</td>\n      <td>26</td>\n      <td>5</td>\n      <td>0.192846</td>\n      <td>0.056795</td>\n      <td>2.563405</td>\n      <td>22641664.0</td>\n      <td>3.200000</td>\n      <td>...</td>\n      <td>0.0</td>\n      <td>0.0</td>\n      <td>0.0</td>\n      <td>0.0</td>\n      <td>0.0</td>\n      <td>1.0</td>\n      <td>0.0</td>\n      <td>0.0</td>\n      <td>0.0</td>\n      <td>0.0</td>\n    </tr>\n    <tr>\n      <th>2281</th>\n      <td>2281</td>\n      <td>4179</td>\n      <td>11</td>\n      <td>26</td>\n      <td>6</td>\n      <td>0.208580</td>\n      <td>0.087355</td>\n      <td>13.824711</td>\n      <td>8544824.0</td>\n      <td>2.322119</td>\n      <td>...</td>\n      <td>0.0</td>\n      <td>0.0</td>\n      <td>0.0</td>\n      <td>1.0</td>\n      <td>0.0</td>\n      <td>0.0</td>\n      <td>0.0</td>\n      <td>0.0</td>\n      <td>0.0</td>\n      <td>0.0</td>\n    </tr>\n  </tbody>\n</table>\n<p>2282 rows × 205 columns</p>\n</div>"
     },
     "execution_count": 3,
     "metadata": {},
     "output_type": "execute_result"
    }
   ],
   "source": [
    "df"
   ],
   "metadata": {
    "collapsed": false,
    "pycharm": {
     "name": "#%%\n"
    }
   }
  },
  {
   "cell_type": "code",
   "execution_count": 4,
   "outputs": [],
   "source": [
    "test_data = pd.read_pickle(\"high_level_data/test_data_pandas.pkl\").reset_index()"
   ],
   "metadata": {
    "collapsed": false,
    "pycharm": {
     "name": "#%%\n"
    }
   }
  },
  {
   "cell_type": "code",
   "execution_count": 5,
   "outputs": [
    {
     "data": {
      "text/plain": "      level_0  index  pianist_id  segment_id  snippet_id  \\\n0           0    198           1          27           0   \n1           1    199           1          27           1   \n2           2    200           1          27           2   \n3           3    201           1          27           3   \n4           4    202           1          28           0   \n...       ...    ...         ...         ...         ...   \n2080     2080   4362          11          60           5   \n2081     2081   4363          11          61           0   \n2082     2082   4364          11          61           1   \n2083     2083   4365          11          61           2   \n2084     2084   4366          11          61           3   \n\n      essentia_dissonance_mean  essentia_dissonance_stdev  \\\n0                     0.229886                   0.062064   \n1                     0.178258                   0.062866   \n2                     0.209623                   0.063750   \n3                     0.215004                   0.061839   \n4                     0.187017                   0.072593   \n...                        ...                        ...   \n2080                  0.239235                   0.048011   \n2081                  0.293661                   0.060317   \n2082                  0.272440                   0.058219   \n2083                  0.273417                   0.060010   \n2084                  0.291446                   0.058896   \n\n      essentia_dynamic_complexity  essentia_loudness  essentia_onset_rate  \\\n0                        4.818434         93184008.0             3.600000   \n1                        3.003938        109259888.0             4.000000   \n2                        1.983438         98162960.0             4.600000   \n3                        1.470698         72971816.0             3.915029   \n4                        2.613981         80688832.0             2.600000   \n...                           ...                ...                  ...   \n2080                     1.178853         50233408.0             2.516549   \n2081                     2.598517        178390704.0             2.400000   \n2082                     1.851364        178757696.0             4.600000   \n2083                     1.930694        285332608.0             2.000000   \n2084                    12.111109        273519168.0             2.177467   \n\n      ...  gems_peacefulness_binary  gems_power_binary  \\\n0     ...                       0.0                0.0   \n1     ...                       0.0                0.0   \n2     ...                       0.0                0.0   \n3     ...                       0.0                0.0   \n4     ...                       0.0                0.0   \n...   ...                       ...                ...   \n2080  ...                       0.0                0.0   \n2081  ...                       0.0                0.0   \n2082  ...                       0.0                0.0   \n2083  ...                       0.0                1.0   \n2084  ...                       0.0                0.0   \n\n      gems_joyful_activation_binary  gems_tension_binary  gems_sadness_binary  \\\n0                               0.0                  1.0                  0.0   \n1                               0.0                  0.0                  0.0   \n2                               0.0                  0.0                  0.0   \n3                               0.0                  0.0                  0.0   \n4                               0.0                  1.0                  0.0   \n...                             ...                  ...                  ...   \n2080                            0.0                  0.0                  0.0   \n2081                            0.0                  1.0                  0.0   \n2082                            0.0                  1.0                  0.0   \n2083                            0.0                  0.0                  0.0   \n2084                            0.0                  1.0                  0.0   \n\n      gemmes_movement_binary  gemmes_force_binary  gemmes_interior_binary  \\\n0                        1.0                  1.0                     0.0   \n1                        1.0                  0.0                     0.0   \n2                        1.0                  0.0                     0.0   \n3                        0.0                  0.0                     0.0   \n4                        0.0                  0.0                     1.0   \n...                      ...                  ...                     ...   \n2080                     0.0                  0.0                     1.0   \n2081                     1.0                  1.0                     0.0   \n2082                     1.0                  0.0                     0.0   \n2083                     1.0                  1.0                     0.0   \n2084                     1.0                  0.0                     0.0   \n\n      gemmes_wandering_binary  gemmes_flow_binary  \n0                         0.0                 0.0  \n1                         0.0                 0.0  \n2                         0.0                 0.0  \n3                         0.0                 0.0  \n4                         0.0                 0.0  \n...                       ...                 ...  \n2080                      0.0                 1.0  \n2081                      1.0                 0.0  \n2082                      0.0                 0.0  \n2083                      0.0                 0.0  \n2084                      0.0                 0.0  \n\n[2085 rows x 188 columns]",
      "text/html": "<div>\n<style scoped>\n    .dataframe tbody tr th:only-of-type {\n        vertical-align: middle;\n    }\n\n    .dataframe tbody tr th {\n        vertical-align: top;\n    }\n\n    .dataframe thead th {\n        text-align: right;\n    }\n</style>\n<table border=\"1\" class=\"dataframe\">\n  <thead>\n    <tr style=\"text-align: right;\">\n      <th></th>\n      <th>level_0</th>\n      <th>index</th>\n      <th>pianist_id</th>\n      <th>segment_id</th>\n      <th>snippet_id</th>\n      <th>essentia_dissonance_mean</th>\n      <th>essentia_dissonance_stdev</th>\n      <th>essentia_dynamic_complexity</th>\n      <th>essentia_loudness</th>\n      <th>essentia_onset_rate</th>\n      <th>...</th>\n      <th>gems_peacefulness_binary</th>\n      <th>gems_power_binary</th>\n      <th>gems_joyful_activation_binary</th>\n      <th>gems_tension_binary</th>\n      <th>gems_sadness_binary</th>\n      <th>gemmes_movement_binary</th>\n      <th>gemmes_force_binary</th>\n      <th>gemmes_interior_binary</th>\n      <th>gemmes_wandering_binary</th>\n      <th>gemmes_flow_binary</th>\n    </tr>\n  </thead>\n  <tbody>\n    <tr>\n      <th>0</th>\n      <td>0</td>\n      <td>198</td>\n      <td>1</td>\n      <td>27</td>\n      <td>0</td>\n      <td>0.229886</td>\n      <td>0.062064</td>\n      <td>4.818434</td>\n      <td>93184008.0</td>\n      <td>3.600000</td>\n      <td>...</td>\n      <td>0.0</td>\n      <td>0.0</td>\n      <td>0.0</td>\n      <td>1.0</td>\n      <td>0.0</td>\n      <td>1.0</td>\n      <td>1.0</td>\n      <td>0.0</td>\n      <td>0.0</td>\n      <td>0.0</td>\n    </tr>\n    <tr>\n      <th>1</th>\n      <td>1</td>\n      <td>199</td>\n      <td>1</td>\n      <td>27</td>\n      <td>1</td>\n      <td>0.178258</td>\n      <td>0.062866</td>\n      <td>3.003938</td>\n      <td>109259888.0</td>\n      <td>4.000000</td>\n      <td>...</td>\n      <td>0.0</td>\n      <td>0.0</td>\n      <td>0.0</td>\n      <td>0.0</td>\n      <td>0.0</td>\n      <td>1.0</td>\n      <td>0.0</td>\n      <td>0.0</td>\n      <td>0.0</td>\n      <td>0.0</td>\n    </tr>\n    <tr>\n      <th>2</th>\n      <td>2</td>\n      <td>200</td>\n      <td>1</td>\n      <td>27</td>\n      <td>2</td>\n      <td>0.209623</td>\n      <td>0.063750</td>\n      <td>1.983438</td>\n      <td>98162960.0</td>\n      <td>4.600000</td>\n      <td>...</td>\n      <td>0.0</td>\n      <td>0.0</td>\n      <td>0.0</td>\n      <td>0.0</td>\n      <td>0.0</td>\n      <td>1.0</td>\n      <td>0.0</td>\n      <td>0.0</td>\n      <td>0.0</td>\n      <td>0.0</td>\n    </tr>\n    <tr>\n      <th>3</th>\n      <td>3</td>\n      <td>201</td>\n      <td>1</td>\n      <td>27</td>\n      <td>3</td>\n      <td>0.215004</td>\n      <td>0.061839</td>\n      <td>1.470698</td>\n      <td>72971816.0</td>\n      <td>3.915029</td>\n      <td>...</td>\n      <td>0.0</td>\n      <td>0.0</td>\n      <td>0.0</td>\n      <td>0.0</td>\n      <td>0.0</td>\n      <td>0.0</td>\n      <td>0.0</td>\n      <td>0.0</td>\n      <td>0.0</td>\n      <td>0.0</td>\n    </tr>\n    <tr>\n      <th>4</th>\n      <td>4</td>\n      <td>202</td>\n      <td>1</td>\n      <td>28</td>\n      <td>0</td>\n      <td>0.187017</td>\n      <td>0.072593</td>\n      <td>2.613981</td>\n      <td>80688832.0</td>\n      <td>2.600000</td>\n      <td>...</td>\n      <td>0.0</td>\n      <td>0.0</td>\n      <td>0.0</td>\n      <td>1.0</td>\n      <td>0.0</td>\n      <td>0.0</td>\n      <td>0.0</td>\n      <td>1.0</td>\n      <td>0.0</td>\n      <td>0.0</td>\n    </tr>\n    <tr>\n      <th>...</th>\n      <td>...</td>\n      <td>...</td>\n      <td>...</td>\n      <td>...</td>\n      <td>...</td>\n      <td>...</td>\n      <td>...</td>\n      <td>...</td>\n      <td>...</td>\n      <td>...</td>\n      <td>...</td>\n      <td>...</td>\n      <td>...</td>\n      <td>...</td>\n      <td>...</td>\n      <td>...</td>\n      <td>...</td>\n      <td>...</td>\n      <td>...</td>\n      <td>...</td>\n      <td>...</td>\n    </tr>\n    <tr>\n      <th>2080</th>\n      <td>2080</td>\n      <td>4362</td>\n      <td>11</td>\n      <td>60</td>\n      <td>5</td>\n      <td>0.239235</td>\n      <td>0.048011</td>\n      <td>1.178853</td>\n      <td>50233408.0</td>\n      <td>2.516549</td>\n      <td>...</td>\n      <td>0.0</td>\n      <td>0.0</td>\n      <td>0.0</td>\n      <td>0.0</td>\n      <td>0.0</td>\n      <td>0.0</td>\n      <td>0.0</td>\n      <td>1.0</td>\n      <td>0.0</td>\n      <td>1.0</td>\n    </tr>\n    <tr>\n      <th>2081</th>\n      <td>2081</td>\n      <td>4363</td>\n      <td>11</td>\n      <td>61</td>\n      <td>0</td>\n      <td>0.293661</td>\n      <td>0.060317</td>\n      <td>2.598517</td>\n      <td>178390704.0</td>\n      <td>2.400000</td>\n      <td>...</td>\n      <td>0.0</td>\n      <td>0.0</td>\n      <td>0.0</td>\n      <td>1.0</td>\n      <td>0.0</td>\n      <td>1.0</td>\n      <td>1.0</td>\n      <td>0.0</td>\n      <td>1.0</td>\n      <td>0.0</td>\n    </tr>\n    <tr>\n      <th>2082</th>\n      <td>2082</td>\n      <td>4364</td>\n      <td>11</td>\n      <td>61</td>\n      <td>1</td>\n      <td>0.272440</td>\n      <td>0.058219</td>\n      <td>1.851364</td>\n      <td>178757696.0</td>\n      <td>4.600000</td>\n      <td>...</td>\n      <td>0.0</td>\n      <td>0.0</td>\n      <td>0.0</td>\n      <td>1.0</td>\n      <td>0.0</td>\n      <td>1.0</td>\n      <td>0.0</td>\n      <td>0.0</td>\n      <td>0.0</td>\n      <td>0.0</td>\n    </tr>\n    <tr>\n      <th>2083</th>\n      <td>2083</td>\n      <td>4365</td>\n      <td>11</td>\n      <td>61</td>\n      <td>2</td>\n      <td>0.273417</td>\n      <td>0.060010</td>\n      <td>1.930694</td>\n      <td>285332608.0</td>\n      <td>2.000000</td>\n      <td>...</td>\n      <td>0.0</td>\n      <td>1.0</td>\n      <td>0.0</td>\n      <td>0.0</td>\n      <td>0.0</td>\n      <td>1.0</td>\n      <td>1.0</td>\n      <td>0.0</td>\n      <td>0.0</td>\n      <td>0.0</td>\n    </tr>\n    <tr>\n      <th>2084</th>\n      <td>2084</td>\n      <td>4366</td>\n      <td>11</td>\n      <td>61</td>\n      <td>3</td>\n      <td>0.291446</td>\n      <td>0.058896</td>\n      <td>12.111109</td>\n      <td>273519168.0</td>\n      <td>2.177467</td>\n      <td>...</td>\n      <td>0.0</td>\n      <td>0.0</td>\n      <td>0.0</td>\n      <td>1.0</td>\n      <td>0.0</td>\n      <td>1.0</td>\n      <td>0.0</td>\n      <td>0.0</td>\n      <td>0.0</td>\n      <td>0.0</td>\n    </tr>\n  </tbody>\n</table>\n<p>2085 rows × 188 columns</p>\n</div>"
     },
     "execution_count": 5,
     "metadata": {},
     "output_type": "execute_result"
    }
   ],
   "source": [
    "test_data"
   ],
   "metadata": {
    "collapsed": false,
    "pycharm": {
     "name": "#%%\n"
    }
   }
  },
  {
   "cell_type": "code",
   "execution_count": 6,
   "outputs": [
    {
     "data": {
      "text/plain": "(['level_0',\n  'index',\n  'pianist_id',\n  'segment_id',\n  'snippet_id',\n  'essentia_dissonance_mean',\n  'essentia_dissonance_stdev',\n  'essentia_dynamic_complexity',\n  'essentia_loudness',\n  'essentia_onset_rate',\n  'essentia_pitch_salience_mean',\n  'essentia_pitch_salience_stdev',\n  'essentia_spectral_centroid_mean',\n  'essentia_spectral_centroid_stdev',\n  'essentia_spectral_complexity_mean',\n  'essentia_spectral_complexity_stdev',\n  'essentia_spectral_rolloff_mean',\n  'essentia_spectral_rolloff_stdev',\n  'essentia_strong_peak_mean',\n  'essentia_strong_peak_stdev',\n  'librosa_bpm',\n  'librosa_chroma_mean_0',\n  'librosa_chroma_std_0',\n  'librosa_chroma_pct_10_0',\n  'librosa_chroma_pct_50_0',\n  'librosa_chroma_pct_90_0',\n  'librosa_chroma_mean_1',\n  'librosa_chroma_std_1',\n  'librosa_chroma_pct_10_1',\n  'librosa_chroma_pct_50_1',\n  'librosa_chroma_pct_90_1',\n  'librosa_chroma_mean_2',\n  'librosa_chroma_std_2',\n  'librosa_chroma_pct_10_2',\n  'librosa_chroma_pct_50_2',\n  'librosa_chroma_pct_90_2',\n  'librosa_chroma_mean_3',\n  'librosa_chroma_std_3',\n  'librosa_chroma_pct_10_3',\n  'librosa_chroma_pct_50_3',\n  'librosa_chroma_pct_90_3',\n  'librosa_chroma_mean_4',\n  'librosa_chroma_std_4',\n  'librosa_chroma_pct_10_4',\n  'librosa_chroma_pct_50_4',\n  'librosa_chroma_pct_90_4',\n  'librosa_chroma_mean_5',\n  'librosa_chroma_std_5',\n  'librosa_chroma_pct_10_5',\n  'librosa_chroma_pct_50_5',\n  'librosa_chroma_pct_90_5',\n  'librosa_chroma_mean_6',\n  'librosa_chroma_std_6',\n  'librosa_chroma_pct_10_6',\n  'librosa_chroma_pct_50_6',\n  'librosa_chroma_pct_90_6',\n  'librosa_chroma_mean_7',\n  'librosa_chroma_std_7',\n  'librosa_chroma_pct_10_7',\n  'librosa_chroma_pct_50_7',\n  'librosa_chroma_pct_90_7',\n  'librosa_chroma_mean_8',\n  'librosa_chroma_std_8',\n  'librosa_chroma_pct_10_8',\n  'librosa_chroma_pct_50_8',\n  'librosa_chroma_pct_90_8',\n  'librosa_chroma_mean_9',\n  'librosa_chroma_std_9',\n  'librosa_chroma_pct_10_9',\n  'librosa_chroma_pct_50_9',\n  'librosa_chroma_pct_90_9',\n  'librosa_chroma_mean_10',\n  'librosa_chroma_std_10',\n  'librosa_chroma_pct_10',\n  'librosa_chroma_pct_50_10',\n  'librosa_chroma_pct_90_10',\n  'librosa_chroma_mean_11',\n  'librosa_chroma_std_11',\n  'librosa_chroma_pct_10_11',\n  'librosa_chroma_pct_50_11',\n  'librosa_chroma_pct_90_11',\n  'librosa_mfcc_mean_0',\n  'librosa_mfcc_std_0',\n  'librosa_mfcc_pct_10_0',\n  'librosa_mfcc_pct_50_0',\n  'librosa_mfcc_pct_90_0',\n  'librosa_mfcc_mean_1',\n  'librosa_mfcc_std_1',\n  'librosa_mfcc_pct_10_1',\n  'librosa_mfcc_pct_50_1',\n  'librosa_mfcc_pct_90_1',\n  'librosa_mfcc_mean_2',\n  'librosa_mfcc_std_2',\n  'librosa_mfcc_pct_10_2',\n  'librosa_mfcc_pct_50_2',\n  'librosa_mfcc_pct_90_2',\n  'librosa_mfcc_mean_3',\n  'librosa_mfcc_std_3',\n  'librosa_mfcc_pct_10_3',\n  'librosa_mfcc_pct_50_3',\n  'librosa_mfcc_pct_90_3',\n  'librosa_mfcc_mean_4',\n  'librosa_mfcc_std_4',\n  'librosa_mfcc_pct_10_4',\n  'librosa_mfcc_pct_50_4',\n  'librosa_mfcc_pct_90_4',\n  'librosa_mfcc_mean_5',\n  'librosa_mfcc_std_5',\n  'librosa_mfcc_pct_10_5',\n  'librosa_mfcc_pct_50_5',\n  'librosa_mfcc_pct_90_5',\n  'librosa_mfcc_mean_6',\n  'librosa_mfcc_std_6',\n  'librosa_mfcc_pct_10_6',\n  'librosa_mfcc_pct_50_6',\n  'librosa_mfcc_pct_90_6',\n  'librosa_mfcc_mean_7',\n  'librosa_mfcc_std_7',\n  'librosa_mfcc_pct_10_7',\n  'librosa_mfcc_pct_50_7',\n  'librosa_mfcc_pct_90_7',\n  'librosa_mfcc_mean_8',\n  'librosa_mfcc_std_8',\n  'librosa_mfcc_pct_10_8',\n  'librosa_mfcc_pct_50_8',\n  'librosa_mfcc_pct_90_8',\n  'librosa_mfcc_mean_9',\n  'librosa_mfcc_std_9',\n  'librosa_mfcc_pct_10_9',\n  'librosa_mfcc_pct_50_9',\n  'librosa_mfcc_pct_90_9',\n  'librosa_mfcc_mean_10',\n  'librosa_mfcc_std_10',\n  'librosa_mfcc_pct_10',\n  'librosa_mfcc_pct_50_10',\n  'librosa_mfcc_pct_90_10',\n  'librosa_mfcc_mean_11',\n  'librosa_mfcc_std_11',\n  'librosa_mfcc_pct_10_11',\n  'librosa_mfcc_pct_50_11',\n  'librosa_mfcc_pct_90_11',\n  'midlevel_features_melody',\n  'midlevel_features_articulation',\n  'midlevel_features_rhythm_complexity',\n  'midlevel_features_rhythm_stability',\n  'midlevel_features_dissonance',\n  'midlevel_features_tonal_stability',\n  'midlevel_features_minorness',\n  'mirtoolbox_brightness',\n  'mirtoolbox_crescendo',\n  'mirtoolbox_dynamics_mean',\n  'mirtoolbox_dynamics_std',\n  'mirtoolbox_dynamics_pct_10',\n  'mirtoolbox_dynamics_pct_50',\n  'mirtoolbox_dynamics_pct_90',\n  'mirtoolbox_hcdf_mean',\n  'mirtoolbox_hcdf_std',\n  'mirtoolbox_hcdf_pct_10',\n  'mirtoolbox_hcdf_pct_50',\n  'mirtoolbox_hcdf_pct_90',\n  'mirtoolbox_irregularity',\n  'mirtoolbox_keyclarity',\n  'mirtoolbox_mode',\n  'mirtoolbox_novelty_mean',\n  'mirtoolbox_novelty_std',\n  'mirtoolbox_novelty_pct_10',\n  'mirtoolbox_novelty_pct_50',\n  'mirtoolbox_novelty_pct_90',\n  'mirtoolbox_pulseclarity',\n  'mirtoolbox_roughness_mean',\n  'mirtoolbox_roughness_std',\n  'mirtoolbox_roughness_pct_10',\n  'mirtoolbox_roughness_pct_50',\n  'mirtoolbox_roughness_pct_90',\n  'gems_wonder_binary',\n  'gems_transcendence_binary',\n  'gems_tenderness_binary',\n  'gems_nostalgia_binary',\n  'gems_peacefulness_binary',\n  'gems_power_binary',\n  'gems_joyful_activation_binary',\n  'gems_tension_binary',\n  'gems_sadness_binary',\n  'gemmes_movement_binary',\n  'gemmes_force_binary',\n  'gemmes_interior_binary',\n  'gemmes_wandering_binary',\n  'gemmes_flow_binary'],\n ['quadrant',\n  'valence',\n  'arousal',\n  'gems_wonder',\n  'gems_transcendence',\n  'gems_tenderness',\n  'gems_nostalgia',\n  'gems_peacefulness',\n  'gems_power',\n  'gems_joyful_activation',\n  'gems_tension',\n  'gems_sadness',\n  'gemmes_movement',\n  'gemmes_force',\n  'gemmes_interior',\n  'gemmes_wandering',\n  'gemmes_flow'])"
     },
     "execution_count": 6,
     "metadata": {},
     "output_type": "execute_result"
    }
   ],
   "source": [
    "train_and_test_feats, only_test_feats = [], []\n",
    "\n",
    "for i in df.columns:\n",
    "    if i in test_data.columns:\n",
    "        train_and_test_feats.append(i)\n",
    "    else:\n",
    "        only_test_feats.append(i)\n",
    "\n",
    "train_and_test_feats, only_test_feats"
   ],
   "metadata": {
    "collapsed": false,
    "pycharm": {
     "name": "#%%\n"
    }
   }
  },
  {
   "cell_type": "code",
   "execution_count": 21,
   "outputs": [],
   "source": [
    "correct_preds = df.get('quadrant')[df.get('segment_id') == 26]"
   ],
   "metadata": {
    "collapsed": false,
    "pycharm": {
     "name": "#%%\n"
    }
   }
  },
  {
   "cell_type": "code",
   "execution_count": 25,
   "outputs": [
    {
     "data": {
      "text/plain": "465"
     },
     "execution_count": 25,
     "metadata": {},
     "output_type": "execute_result"
    }
   ],
   "source": [
    "revs = np.array([5, 10, 10, 5])\n",
    "scores = np.sum(revs[correct_preds.astype(int)-1])\n",
    "scores"
   ],
   "metadata": {
    "collapsed": false,
    "pycharm": {
     "name": "#%%\n"
    }
   }
  },
  {
   "cell_type": "code",
   "execution_count": 9,
   "outputs": [
    {
     "data": {
      "text/plain": "0        0\n1        0\n2        0\n3        0\n4        0\n        ..\n2277    26\n2278    26\n2279    26\n2280    26\n2281    26\nName: segment_id, Length: 2282, dtype: int64"
     },
     "execution_count": 9,
     "metadata": {},
     "output_type": "execute_result"
    }
   ],
   "source": [
    "df.get('segment_id')"
   ],
   "metadata": {
    "collapsed": false,
    "pycharm": {
     "name": "#%%\n"
    }
   }
  },
  {
   "cell_type": "code",
   "execution_count": null,
   "outputs": [],
   "source": [],
   "metadata": {
    "collapsed": false,
    "pycharm": {
     "name": "#%%\n"
    }
   }
  }
 ],
 "metadata": {
  "kernelspec": {
   "display_name": "Python 3",
   "language": "python",
   "name": "python3"
  },
  "language_info": {
   "codemirror_mode": {
    "name": "ipython",
    "version": 2
   },
   "file_extension": ".py",
   "mimetype": "text/x-python",
   "name": "python",
   "nbconvert_exporter": "python",
   "pygments_lexer": "ipython2",
   "version": "2.7.6"
  }
 },
 "nbformat": 4,
 "nbformat_minor": 0
}